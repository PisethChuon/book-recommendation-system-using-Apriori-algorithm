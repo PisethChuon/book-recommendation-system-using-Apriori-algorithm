{
 "cells": [
  {
   "cell_type": "code",
   "execution_count": 1,
   "id": "eaaee964-06b7-4a96-9713-5e0a444bc38e",
   "metadata": {},
   "outputs": [],
   "source": [
    "import pandas as pd\n",
    "import random"
   ]
  },
  {
   "cell_type": "code",
   "execution_count": 4,
   "id": "07815546-438e-4156-b723-1e8c584ad254",
   "metadata": {},
   "outputs": [
    {
     "data": {
      "text/plain": [
       "'/Users/int3072/Desktop/Python/apriori/synthetic_books_dataset.csv'"
      ]
     },
     "execution_count": 4,
     "metadata": {},
     "output_type": "execute_result"
    }
   ],
   "source": [
    "import pandas as pd\n",
    "import random\n",
    "\n",
    "# List of book titles\n",
    "books = [\"Harry Potter\", \"Hobbit\", \"LOTR\", \"Narnia\", \"Percy Jackson\", \n",
    "         \"Twilight\", \"Divergent\", \"Maze Runner\", \"Game of Thrones\", \"Eragon\"]\n",
    "\n",
    "# Dictionary to hold synthetic data\n",
    "data = {\"TransactionID\": [], \"Books\": []}\n",
    "\n",
    "# Generate 100 synthetic transactions\n",
    "for i in range(1, 101):  # 100 transactions\n",
    "    data[\"TransactionID\"].append(i)\n",
    "    # Select 2 to 5 random books for each transaction\n",
    "    data[\"Books\"].append(\", \".join(random.sample(books, random.randint(2, 5))))\n",
    "\n",
    "# Convert to a DataFrame\n",
    "synthetic_df = pd.DataFrame(data)\n",
    "\n",
    "# Save to a CSV file\n",
    "file_path = \"/Users/int3072/Desktop/Python/apriori/data/synthetic_books_dataset.csv\"\n",
    "synthetic_df.to_csv(file_path, index=False)\n",
    "\n",
    "file_path"
   ]
  },
  {
   "cell_type": "code",
   "execution_count": null,
   "id": "0b0a3a83-ec52-4139-8f32-623fdc305d09",
   "metadata": {},
   "outputs": [],
   "source": []
  }
 ],
 "metadata": {
  "kernelspec": {
   "display_name": "Python 3 (ipykernel)",
   "language": "python",
   "name": "python3"
  },
  "language_info": {
   "codemirror_mode": {
    "name": "ipython",
    "version": 3
   },
   "file_extension": ".py",
   "mimetype": "text/x-python",
   "name": "python",
   "nbconvert_exporter": "python",
   "pygments_lexer": "ipython3",
   "version": "3.12.8"
  }
 },
 "nbformat": 4,
 "nbformat_minor": 5
}
